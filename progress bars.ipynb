{
 "cells": [
  {
   "cell_type": "code",
   "execution_count": null,
   "metadata": {},
   "outputs": [
    {
     "name": "stderr",
     "output_type": "stream",
     "text": [
      "Processing: 100%|██████████| 100/100 [00:00<00:00, 974.62%/s]"
     ]
    },
    {
     "name": "stdout",
     "output_type": "stream",
     "text": [
      "Done!\n"
     ]
    },
    {
     "name": "stderr",
     "output_type": "stream",
     "text": [
      "\n"
     ]
    }
   ],
   "source": [
    "import time\n",
    "import multiprocessing\n",
    "from tqdm import tqdm\n",
    "\n",
    "def long_running_function():\n",
    "    \"\"\"Simulate a real heavy optimization task\"\"\"\n",
    "    result = 0\n",
    "    for i in range(1, 10,000,000,000,000):\n",
    "        result += (i ** 0.5) / (i + 1)  # Heavy dummy computation\n",
    "    return result\n",
    "\n",
    "def track_progress(process, predicted_time):\n",
    "    \"\"\"Update progress bar based on predicted duration\"\"\"\n",
    "    with tqdm(total=100, desc=\"Processing\", unit=\"%\") as pbar:\n",
    "        time.sleep(.2)\n",
    "        start_time = time.time()\n",
    "        while process.is_alive():\n",
    "            elapsed = time.time() - start_time\n",
    "            progress = min(99, (elapsed / predicted_time) * 100)  # Avoid reaching 100% too early\n",
    "            pbar.n = int(progress)\n",
    "            pbar.refresh()\n",
    "            time.sleep(0.1)  # Update rate\n",
    "\n",
    "        # After the process is done, manually set progress to 100%\n",
    "        pbar.n = 100\n",
    "        pbar.refresh()\n",
    "\n",
    "if __name__ == \"__main__\":\n",
    "    predicted_time = 10  # Predicted seconds\n",
    "\n",
    "    # Start long_running_function in a separate process\n",
    "    process = multiprocessing.Process(target=long_running_function)\n",
    "    process.start()\n",
    "\n",
    "    # Track progress while the process runs\n",
    "    track_progress(process, predicted_time)\n",
    "\n",
    "    # Wait for the process to finish before exiting\n",
    "    process.join()\n",
    "\n",
    "    print(\"Done!\")\n"
   ]
  }
 ],
 "metadata": {
  "kernelspec": {
   "display_name": "Python 3",
   "language": "python",
   "name": "python3"
  },
  "language_info": {
   "codemirror_mode": {
    "name": "ipython",
    "version": 3
   },
   "file_extension": ".py",
   "mimetype": "text/x-python",
   "name": "python",
   "nbconvert_exporter": "python",
   "pygments_lexer": "ipython3",
   "version": "3.12.4"
  }
 },
 "nbformat": 4,
 "nbformat_minor": 2
}
